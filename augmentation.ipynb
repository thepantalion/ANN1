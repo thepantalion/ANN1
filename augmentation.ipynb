{
 "cells": [
  {
   "cell_type": "markdown",
   "metadata": {
    "id": "MdD_8Vyswkwf"
   },
   "source": [
    "### Import libraries"
   ]
  },
  {
   "cell_type": "code",
   "execution_count": 2,
   "metadata": {},
   "outputs": [],
   "source": [
    "from tensorflow.keras.preprocessing.image import ImageDataGenerator\n",
    "import numpy as np\n",
    "import os\n",
    "from PIL import Image"
   ]
  },
  {
   "cell_type": "markdown",
   "metadata": {},
   "source": [
    "### Load and clean the dataset"
   ]
  },
  {
   "cell_type": "code",
   "execution_count": 15,
   "metadata": {},
   "outputs": [
    {
     "name": "stdout",
     "output_type": "stream",
     "text": [
      "3060\n",
      "1790\n"
     ]
    }
   ],
   "source": [
    "# Load the data from the file\n",
    "file_path = 'cleaned_data.npz'\n",
    "loaded_data = np.load(file_path, allow_pickle=True)\n",
    "\n",
    "# Put data into proper arrays\n",
    "data = loaded_data['data']\n",
    "labels = loaded_data['labels']"
   ]
  },
  {
   "cell_type": "markdown",
   "metadata": {},
   "source": [
    "### Data augmentationa"
   ]
  },
  {
   "cell_type": "code",
   "execution_count": 16,
   "metadata": {},
   "outputs": [],
   "source": [
    "from sklearn.utils import shuffle\n",
    "\n",
    "# Create an ImageDataGenerator for data augmentation\n",
    "datagen = ImageDataGenerator(\n",
    "    rotation_range=20,\n",
    "    width_shift_range=0.2,\n",
    "    height_shift_range=0.2,\n",
    "    shear_range=0.2,\n",
    "    zoom_range=0.2,\n",
    "    horizontal_flip=True,\n",
    "    vertical_flip=True,\n",
    "    fill_mode='nearest'\n",
    ")\n",
    "\n",
    "# Assuming 'data' is your original data and 'labels' are your original labels\n",
    "original_data = data\n",
    "original_labels = labels\n",
    "\n",
    "# Specify the number of augmented images for each class (adjust as needed)\n",
    "num_augmented_images_healthy = 100\n",
    "num_augmented_images_unhealthy = 140\n",
    "\n",
    "# Create generators for both healthy and unhealthy images\n",
    "healthy_indices = np.where(original_labels == 'healthy')[0]\n",
    "unhealthy_indices = np.where(original_labels == 'unhealthy')[0]\n",
    "\n",
    "healthy_datagen = datagen.flow(original_data[healthy_indices], batch_size=32, shuffle=True)\n",
    "unhealthy_datagen = datagen.flow(original_data[unhealthy_indices], batch_size=32, shuffle=True)\n",
    "\n",
    "# Save augmented images and labels\n",
    "augmented_images_list = []\n",
    "augmented_labels_list = []\n",
    "\n",
    "# Augment healthy images\n",
    "for _ in range(num_augmented_images_healthy):\n",
    "    augmented_images = healthy_datagen.next()\n",
    "    for _, image in enumerate(augmented_images):\n",
    "        augmented_images_list.append(image)\n",
    "        augmented_labels_list.append('healthy')\n",
    "\n",
    "# Augment unhealthy images\n",
    "for _ in range(num_augmented_images_unhealthy):\n",
    "    augmented_images = unhealthy_datagen.next()\n",
    "    for _, image in enumerate(augmented_images):\n",
    "        augmented_images_list.append(image)\n",
    "        augmented_labels_list.append('unhealthy')\n",
    "\n",
    "# Concatenate the augmented labels and images to the original data and labels\n",
    "data_combined, labels_combined = shuffle(\n",
    "    np.concatenate((original_data, augmented_images_list), axis=0),\n",
    "    np.concatenate((original_labels, np.array(augmented_labels_list)))\n",
    ")\n",
    "\n",
    "# Save the data as .npz\n",
    "np.savez('data_augmented.npz', data=data_combined, labels=labels_combined)"
   ]
  },
  {
   "cell_type": "markdown",
   "metadata": {},
   "source": [
    "### Count healthy and unhealthy"
   ]
  },
  {
   "cell_type": "code",
   "execution_count": 12,
   "metadata": {},
   "outputs": [
    {
     "name": "stdout",
     "output_type": "stream",
     "text": [
      "5300\n",
      "5626\n"
     ]
    }
   ],
   "source": [
    "# Load the data from the file\n",
    "file_path = 'data_augmented.npz'\n",
    "loaded_data = np.load(file_path, allow_pickle=True)\n",
    "\n",
    "# Put data into proper arrays\n",
    "data = loaded_data['data']\n",
    "labels = loaded_data['labels']\n",
    "\n",
    "healthy = []\n",
    "unhealthy = []\n",
    "\n",
    "# Iterate through the images to separate them in the proper set\n",
    "for i, image in enumerate(data):\n",
    "    if (labels[i] == 'unhealthy'):\n",
    "        unhealthy.append(image)\n",
    "    else:\n",
    "        healthy.append(image)\n",
    "\n",
    "print(len(healthy))\n",
    "print(len(unhealthy))"
   ]
  },
  {
   "cell_type": "code",
   "execution_count": null,
   "metadata": {},
   "outputs": [],
   "source": []
  }
 ],
 "metadata": {
  "accelerator": "GPU",
  "colab": {
   "provenance": []
  },
  "kernelspec": {
   "display_name": "ve",
   "language": "python",
   "name": "ve"
  },
  "language_info": {
   "codemirror_mode": {
    "name": "ipython",
    "version": 3
   },
   "file_extension": ".py",
   "mimetype": "text/x-python",
   "name": "python",
   "nbconvert_exporter": "python",
   "pygments_lexer": "ipython3",
   "version": "3.11.5"
  }
 },
 "nbformat": 4,
 "nbformat_minor": 4
}
