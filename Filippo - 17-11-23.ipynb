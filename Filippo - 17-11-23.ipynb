{
  "cells": [
    {
      "cell_type": "markdown",
      "metadata": {
        "id": "iOr_f850_G6j"
      },
      "source": [
        "### Import libraries"
      ]
    },
    {
      "cell_type": "code",
      "execution_count": 1,
      "metadata": {
        "execution": {
          "iopub.execute_input": "2023-11-13T19:09:30.849639Z",
          "iopub.status.busy": "2023-11-13T19:09:30.849257Z",
          "iopub.status.idle": "2023-11-13T19:09:30.856119Z",
          "shell.execute_reply": "2023-11-13T19:09:30.855220Z",
          "shell.execute_reply.started": "2023-11-13T19:09:30.849608Z"
        },
        "id": "lZqUO2x3_G7B",
        "trusted": true
      },
      "outputs": [],
      "source": [
        "# Fix randomness and hide warnings\n",
        "seed = 42\n",
        "\n",
        "import os\n",
        "os.environ['TF_CPP_MIN_LOG_LEVEL'] = '3'\n",
        "os.environ['PYTHONHASHSEED'] = str(seed)\n",
        "os.environ['MPLCONFIGDIR'] = os.getcwd()+'/configs/'\n",
        "\n",
        "import warnings\n",
        "warnings.simplefilter(action='ignore', category=FutureWarning)\n",
        "warnings.simplefilter(action='ignore', category=Warning)\n",
        "\n",
        "import numpy as np\n",
        "np.random.seed(seed)\n",
        "\n",
        "import logging\n",
        "import platform\n",
        "\n",
        "import random\n",
        "random.seed(seed)"
      ]
    },
    {
      "cell_type": "code",
      "execution_count": 2,
      "metadata": {
        "colab": {
          "base_uri": "https://localhost:8080/"
        },
        "execution": {
          "iopub.execute_input": "2023-11-13T19:09:31.875522Z",
          "iopub.status.busy": "2023-11-13T19:09:31.875160Z",
          "iopub.status.idle": "2023-11-13T19:09:31.885355Z",
          "shell.execute_reply": "2023-11-13T19:09:31.884438Z",
          "shell.execute_reply.started": "2023-11-13T19:09:31.875493Z"
        },
        "id": "DfwdmJ-J_G7F",
        "outputId": "72c17a33-e83b-45ab-9ec3-b6f463eebbc5",
        "trusted": true
      },
      "outputs": [
        {
          "name": "stdout",
          "output_type": "stream",
          "text": [
            "2.14.0\n"
          ]
        }
      ],
      "source": [
        "# Import tensorflow\n",
        "import tensorflow as tf\n",
        "from tensorflow import keras\n",
        "from tensorflow.keras import layers as tfk\n",
        "from tensorflow.keras import mixed_precision\n",
        "\n",
        "from keras.applications import VGG16\n",
        "from keras.models import Sequential\n",
        "from keras.layers import Dense, Flatten, Dropout\n",
        "from keras.optimizers import Adam\n",
        "from keras.callbacks import EarlyStopping\n",
        "\n",
        "from imblearn.over_sampling import SMOTE\n",
        "import matplotlib.pyplot as plt\n",
        "\n",
        "tf.autograph.set_verbosity(0)\n",
        "tf.get_logger().setLevel(logging.ERROR)\n",
        "tf.compat.v1.logging.set_verbosity(tf.compat.v1.logging.ERROR)\n",
        "tf.random.set_seed(seed)\n",
        "tf.compat.v1.set_random_seed(seed)\n",
        "print(tf.__version__)"
      ]
    },
    {
      "cell_type": "code",
      "execution_count": 3,
      "metadata": {
        "execution": {
          "iopub.execute_input": "2023-11-13T19:09:32.424413Z",
          "iopub.status.busy": "2023-11-13T19:09:32.423809Z",
          "iopub.status.idle": "2023-11-13T19:09:32.429764Z",
          "shell.execute_reply": "2023-11-13T19:09:32.428818Z",
          "shell.execute_reply.started": "2023-11-13T19:09:32.424379Z"
        },
        "id": "gCwSDDsA_G7J",
        "trusted": true
      },
      "outputs": [],
      "source": [
        "# Import other libraries\n",
        "import cv2\n",
        "from tensorflow.keras.applications.mobilenet import preprocess_input\n",
        "import matplotlib.pyplot as plt\n",
        "from sklearn.model_selection import train_test_split\n",
        "from sklearn.metrics import accuracy_score, f1_score, precision_score, recall_score, confusion_matrix\n",
        "import seaborn as sns\n",
        "from PIL import Image\n",
        "from sklearn.model_selection import KFold\n",
        "import zipfile"
      ]
    },
    {
      "cell_type": "code",
      "execution_count": 4,
      "metadata": {},
      "outputs": [],
      "source": [
        "import os\n",
        "import zipfile\n",
        "from datetime import datetime\n",
        "from os.path import basename"
      ]
    },
    {
      "cell_type": "code",
      "execution_count": 5,
      "metadata": {
        "id": "vxU6oVTS_G7L"
      },
      "outputs": [],
      "source": [
        "# Setup Mixed Precision\n",
        "\n",
        "# Detect TPY\n",
        "try:\n",
        "  tpu = tf.distribute.cluster_resolver.TPUClusterResolver()\n",
        "except ValueError:\n",
        "  tpu = None\n",
        "\n",
        "if tpu:\n",
        "  policyConfig = 'mixed_bfloat16'\n",
        "else:\n",
        "  policyConfig = 'mixed_float16'\n",
        "\n",
        "policy = tf.keras.mixed_precision.Policy(policyConfig)\n",
        "# tf.keras.mixed_precision.set_global_policy(policy)"
      ]
    },
    {
      "cell_type": "markdown",
      "metadata": {
        "id": "0rq5_5WD_G7Y"
      },
      "source": [
        "### Load and process the (augmented) dataset"
      ]
    },
    {
      "cell_type": "code",
      "execution_count": 6,
      "metadata": {
        "colab": {
          "base_uri": "https://localhost:8080/"
        },
        "execution": {
          "iopub.execute_input": "2023-11-13T22:19:30.254927Z",
          "iopub.status.busy": "2023-11-13T22:19:30.254521Z",
          "iopub.status.idle": "2023-11-13T22:19:31.403964Z",
          "shell.execute_reply": "2023-11-13T22:19:31.402963Z",
          "shell.execute_reply.started": "2023-11-13T22:19:30.254894Z"
        },
        "id": "sMEyc6xZ_G7Z",
        "outputId": "77c4adb0-5c3f-417b-d567-fa9d64398224",
        "trusted": true
      },
      "outputs": [
        {
          "name": "stdout",
          "output_type": "stream",
          "text": [
            "13450\n",
            "13450\n",
            "6660\n",
            "6790\n"
          ]
        }
      ],
      "source": [
        "file_path = 'augmented_data.npz'\n",
        "loaded_data = np.load(file_path, allow_pickle = True)\n",
        "\n",
        "# Access the 'data' and 'labels' arrays\n",
        "X = loaded_data['data']\n",
        "labels = loaded_data['labels']\n",
        "\n",
        "print(len(X))\n",
        "print(len(labels))\n",
        "\n",
        "X = X / 255.0\n",
        "\n",
        "healthy = []\n",
        "unhealthy = []\n",
        "\n",
        "# Iterate through the images to separate them into the proper set\n",
        "for i, image in enumerate(X):\n",
        "    if labels[i] == 'unhealthy':\n",
        "        unhealthy.append(image)\n",
        "    else:\n",
        "        healthy.append(image)\n",
        "\n",
        "np.random.shuffle(healthy)\n",
        "np.random.shuffle(unhealthy)\n",
        "# ChatGPT suggests to shuffle images to avoid batches containing the same images\n",
        "\n",
        "print(len(healthy))\n",
        "print(len(unhealthy))"
      ]
    },
    {
      "cell_type": "code",
      "execution_count": 7,
      "metadata": {
        "colab": {
          "base_uri": "https://localhost:8080/"
        },
        "execution": {
          "iopub.execute_input": "2023-11-13T22:19:31.405704Z",
          "iopub.status.busy": "2023-11-13T22:19:31.405438Z",
          "iopub.status.idle": "2023-11-13T22:19:32.435995Z",
          "shell.execute_reply": "2023-11-13T22:19:32.432404Z",
          "shell.execute_reply.started": "2023-11-13T22:19:31.405679Z"
        },
        "id": "QlsL8R6i_G7a",
        "outputId": "bd4b233b-8b8b-49f7-8075-77d5c3a93bd2",
        "trusted": true
      },
      "outputs": [
        {
          "name": "stdout",
          "output_type": "stream",
          "text": [
            "X_train shape: (9415, 96, 96, 3), y_train shape: (9415, 2)\n",
            "X_val shape: (2824, 96, 96, 3), y_val shape: (2824, 2)\n"
          ]
        }
      ],
      "source": [
        "# Codifica delle etichette 'healthy' e 'unhealthy' in numeri\n",
        "label_dict = {'healthy': 0, 'unhealthy': 1}\n",
        "y = np.array([label_dict[label] for label in labels]) # 0 è [1,0]\n",
        "\n",
        "# Convert labels to one-hot encoding format\n",
        "y = keras.utils.to_categorical(y,2)\n",
        "\n",
        "# Split data into train_val and test sets\n",
        "X_train, X_temp, y_train, y_temp = train_test_split(X, y, random_state=seed, test_size=0.3, stratify=y)\n",
        "X_val, X_test, y_val, y_test = train_test_split(X_temp, y_temp, random_state=seed, test_size=0.3, stratify=y_temp)\n",
        "\n",
        "\n",
        "# Print shapes of the datasets\n",
        "print(f\"X_train shape: {X_train.shape}, y_train shape: {y_train.shape}\")\n",
        "\n",
        "# Print shapes of the datasets\n",
        "print(f\"X_val shape: {X_val.shape}, y_val shape: {y_val.shape}\")\n"
      ]
    },
    {
      "cell_type": "code",
      "execution_count": 8,
      "metadata": {},
      "outputs": [
        {
          "name": "stdout",
          "output_type": "stream",
          "text": [
            "X_train shape: (9506, 96, 96, 3), y_train shape: (9506, 2)\n",
            "X_val shape: (2852, 96, 96, 3), y_val shape: (2852, 2)\n"
          ]
        }
      ],
      "source": [
        "# Reshape arrays if necessary (replace (96, 96, 3) with the actual shape of your images)\n",
        "X_train = X_train.reshape((len(X_train), -1))\n",
        "X_val = X_val.reshape((len(X_val), -1))\n",
        "\n",
        "# Apply SMOTE to the training set\n",
        "smote = SMOTE(sampling_strategy='auto', random_state=42)\n",
        "X_train, y_train = smote.fit_resample(X_train, y_train)\n",
        "\n",
        "#Apply SMOTE to the training val\n",
        "X_val, y_val = smote.fit_resample(X_val, y_val)\n",
        "\n",
        "# Reshape arrays back to the original shape\n",
        "X_train = X_train.reshape((len(X_train), 96, 96, 3))\n",
        "X_val = X_val.reshape((len(X_val), 96, 96, 3))\n",
        "\n",
        "# Convert labels to one-hot encoding format\n",
        "y_train = keras.utils.to_categorical(y_train, 2)\n",
        "y_val = keras.utils.to_categorical(y_val, 2)\n",
        "\n",
        "print(f\"X_train shape: {X_train.shape}, y_train shape: {y_train.shape}\")\n",
        "print(f\"X_val shape: {X_val.shape}, y_val shape: {y_val.shape}\")"
      ]
    },
    {
      "cell_type": "code",
      "execution_count": 9,
      "metadata": {
        "colab": {
          "base_uri": "https://localhost:8080/"
        },
        "id": "Kvp4W1NHKwIX",
        "outputId": "61a8cd26-2e6c-4b05-ec57-57bd080288cf"
      },
      "outputs": [
        {
          "name": "stdout",
          "output_type": "stream",
          "text": [
            "Input Shape: (96, 96, 3), Output Shape: (2,), Batch Size: 32, Epochs: 2000\n"
          ]
        }
      ],
      "source": [
        "# Define input shape, output shape, batch size, and number of epochs\n",
        "input_shape = X_train.shape[1:]\n",
        "output_shape = y_train.shape[1:]\n",
        "batch_size = 32\n",
        "epochs = 2000\n",
        "\n",
        "img_height = 96\n",
        "img_width = 96\n",
        "\n",
        "# Print input shape, batch size, and number of epochs\n",
        "print(f\"Input Shape: {input_shape}, Output Shape: {output_shape}, Batch Size: {batch_size}, Epochs: {epochs}\")"
      ]
    },
    {
      "cell_type": "markdown",
      "metadata": {
        "id": "rBFjNOl9_G7c"
      },
      "source": [
        "### Setup the model"
      ]
    },
    {
      "cell_type": "code",
      "execution_count": 10,
      "metadata": {},
      "outputs": [],
      "source": [
        "# Macs with Apple Silicon suffer performance penalties when using the modern Adam optimizer\n",
        "# Detect system specs and select the appropriate optimizer\n",
        "\n",
        "if platform.system() == \"Darwin\" and platform.processor() == \"arm\":\n",
        "    optimizer = tf.keras.optimizers.legacy.Adam()\n",
        "else:\n",
        "    optimizer = tf.keras.optimizers.Adam()"
      ]
    },
    {
      "cell_type": "code",
      "execution_count": 11,
      "metadata": {},
      "outputs": [
        {
          "name": "stdout",
          "output_type": "stream",
          "text": [
            "Model: \"sequential\"\n",
            "_________________________________________________________________\n",
            " Layer (type)                Output Shape              Param #   \n",
            "=================================================================\n",
            " vgg16 (Functional)          (None, 3, 3, 512)         14714688  \n",
            "                                                                 \n",
            " flatten (Flatten)           (None, 4608)              0         \n",
            "                                                                 \n",
            " dense (Dense)               (None, 256)               1179904   \n",
            "                                                                 \n",
            " dropout (Dropout)           (None, 256)               0         \n",
            "                                                                 \n",
            " dense_1 (Dense)             (None, 2)                 514       \n",
            "                                                                 \n",
            "=================================================================\n",
            "Total params: 15895106 (60.64 MB)\n",
            "Trainable params: 1180418 (4.50 MB)\n",
            "Non-trainable params: 14714688 (56.13 MB)\n",
            "_________________________________________________________________\n"
          ]
        }
      ],
      "source": [
        "# Load the VGG16 model pre-trained on ImageNet data\n",
        "vgg16 = keras.applications.VGG16(weights='imagenet', include_top=False, input_shape=(96, 96, 3))\n",
        "\n",
        "# Freeze the weights of the VGG16 model\n",
        "vgg16.trainable = False\n",
        "\n",
        "# Create a new model on top of the VGG16 model\n",
        "model = Sequential()\n",
        "model.add(vgg16)\n",
        "model.add(Flatten())\n",
        "model.add(Dense(256, activation='relu'))\n",
        "model.add(Dropout(0.5))  # Add Dropout layer with a dropout rate of 0.5\n",
        "model.add(Dense(2, activation='sigmoid'))  # Binary classification, so use a sigmoid activation\n",
        "\n",
        "# Compile the model\n",
        "model.compile(loss=tf.losses.BinaryCrossentropy(), optimizer=optimizer, metrics=['accuracy'])\n",
        "\n",
        "# Print a summary of the model architecture\n",
        "model.summary()"
      ]
    },
    {
      "cell_type": "markdown",
      "metadata": {
        "id": "_EBoq1Lh_G7f"
      },
      "source": [
        "### Train the model"
      ]
    },
    {
      "cell_type": "code",
      "execution_count": 12,
      "metadata": {
        "colab": {
          "base_uri": "https://localhost:8080/"
        },
        "execution": {
          "iopub.execute_input": "2023-11-13T22:19:32.852481Z",
          "iopub.status.busy": "2023-11-13T22:19:32.852170Z"
        },
        "id": "BRW95Xsi_G7f",
        "outputId": "2dc840aa-eeaf-45be-857e-fa0243e1b1b3",
        "trusted": true
      },
      "outputs": [
        {
          "name": "stdout",
          "output_type": "stream",
          "text": [
            "Epoch 1/2000\n",
            "75/75 [==============================] - 13s 163ms/step - loss: 1.5524 - accuracy: 0.5988 - val_loss: 0.5994 - val_accuracy: 0.7237\n",
            "Epoch 2/2000\n",
            "75/75 [==============================] - 11s 154ms/step - loss: 0.9757 - accuracy: 0.6783 - val_loss: 0.5091 - val_accuracy: 0.7689\n",
            "Epoch 3/2000\n",
            "75/75 [==============================] - 12s 154ms/step - loss: 0.6491 - accuracy: 0.7464 - val_loss: 0.4698 - val_accuracy: 0.7837\n",
            "Epoch 4/2000\n",
            "75/75 [==============================] - 12s 154ms/step - loss: 0.5245 - accuracy: 0.7771 - val_loss: 0.4670 - val_accuracy: 0.7917\n",
            "Epoch 5/2000\n",
            "75/75 [==============================] - 12s 154ms/step - loss: 0.4656 - accuracy: 0.7982 - val_loss: 0.4743 - val_accuracy: 0.7861\n",
            "Epoch 6/2000\n",
            "75/75 [==============================] - 11s 153ms/step - loss: 0.4177 - accuracy: 0.8201 - val_loss: 0.4217 - val_accuracy: 0.8135\n",
            "Epoch 7/2000\n",
            "75/75 [==============================] - 11s 153ms/step - loss: 0.3971 - accuracy: 0.8295 - val_loss: 0.4128 - val_accuracy: 0.8198\n",
            "Epoch 8/2000\n",
            "75/75 [==============================] - 11s 153ms/step - loss: 0.3777 - accuracy: 0.8440 - val_loss: 0.4152 - val_accuracy: 0.8208\n",
            "Epoch 9/2000\n",
            "75/75 [==============================] - 11s 153ms/step - loss: 0.3595 - accuracy: 0.8527 - val_loss: 0.4135 - val_accuracy: 0.8229\n",
            "Epoch 10/2000\n",
            "75/75 [==============================] - 11s 153ms/step - loss: 0.3449 - accuracy: 0.8565 - val_loss: 0.4156 - val_accuracy: 0.8243\n",
            "Epoch 11/2000\n",
            "75/75 [==============================] - 11s 152ms/step - loss: 0.3460 - accuracy: 0.8541 - val_loss: 0.4116 - val_accuracy: 0.8243\n",
            "Epoch 12/2000\n",
            "75/75 [==============================] - 12s 155ms/step - loss: 0.3324 - accuracy: 0.8614 - val_loss: 0.4131 - val_accuracy: 0.8243\n",
            "Epoch 13/2000\n",
            "75/75 [==============================] - 11s 152ms/step - loss: 0.3184 - accuracy: 0.8679 - val_loss: 0.4135 - val_accuracy: 0.8299\n",
            "Epoch 14/2000\n",
            "75/75 [==============================] - 11s 153ms/step - loss: 0.3097 - accuracy: 0.8722 - val_loss: 0.4339 - val_accuracy: 0.8191\n",
            "Epoch 15/2000\n",
            "75/75 [==============================] - 12s 155ms/step - loss: 0.3071 - accuracy: 0.8738 - val_loss: 0.4388 - val_accuracy: 0.8212\n",
            "Epoch 16/2000\n",
            "75/75 [==============================] - 12s 156ms/step - loss: 0.2985 - accuracy: 0.8799 - val_loss: 0.4284 - val_accuracy: 0.8289\n",
            "Epoch 17/2000\n",
            "75/75 [==============================] - 11s 151ms/step - loss: 0.2908 - accuracy: 0.8838 - val_loss: 0.4239 - val_accuracy: 0.8215\n",
            "Epoch 18/2000\n",
            "75/75 [==============================] - 11s 151ms/step - loss: 0.2845 - accuracy: 0.8852 - val_loss: 0.4318 - val_accuracy: 0.8226\n",
            "Epoch 19/2000\n",
            "75/75 [==============================] - 11s 151ms/step - loss: 0.2912 - accuracy: 0.8825 - val_loss: 0.4391 - val_accuracy: 0.8222\n",
            "Epoch 20/2000\n",
            "75/75 [==============================] - 11s 151ms/step - loss: 0.2834 - accuracy: 0.8848 - val_loss: 0.4298 - val_accuracy: 0.8243\n",
            "Epoch 21/2000\n",
            "75/75 [==============================] - 11s 152ms/step - loss: 0.2733 - accuracy: 0.8878 - val_loss: 0.4355 - val_accuracy: 0.8229\n",
            "Epoch 22/2000\n",
            "75/75 [==============================] - 11s 153ms/step - loss: 0.2733 - accuracy: 0.8887 - val_loss: 0.4416 - val_accuracy: 0.8264\n",
            "Epoch 23/2000\n",
            "75/75 [==============================] - 11s 151ms/step - loss: 0.2605 - accuracy: 0.8975 - val_loss: 0.4395 - val_accuracy: 0.8261\n",
            "Epoch 24/2000\n",
            "75/75 [==============================] - 11s 151ms/step - loss: 0.2639 - accuracy: 0.8955 - val_loss: 0.4663 - val_accuracy: 0.8222\n",
            "Epoch 25/2000\n",
            "75/75 [==============================] - 11s 152ms/step - loss: 0.2697 - accuracy: 0.8907 - val_loss: 0.4482 - val_accuracy: 0.8250\n",
            "Epoch 26/2000\n",
            "75/75 [==============================] - 11s 151ms/step - loss: 0.2618 - accuracy: 0.8955 - val_loss: 0.4531 - val_accuracy: 0.8261\n",
            "Epoch 27/2000\n",
            "75/75 [==============================] - 12s 155ms/step - loss: 0.2551 - accuracy: 0.8987 - val_loss: 0.4477 - val_accuracy: 0.8261\n",
            "Epoch 28/2000\n",
            "75/75 [==============================] - 11s 153ms/step - loss: 0.2661 - accuracy: 0.8962 - val_loss: 0.4873 - val_accuracy: 0.8145\n",
            "Epoch 29/2000\n",
            "75/75 [==============================] - 11s 153ms/step - loss: 0.2555 - accuracy: 0.9015 - val_loss: 0.4603 - val_accuracy: 0.8254\n",
            "Epoch 30/2000\n",
            "75/75 [==============================] - 11s 153ms/step - loss: 0.2573 - accuracy: 0.8986 - val_loss: 0.4594 - val_accuracy: 0.8264\n",
            "Epoch 31/2000\n",
            "75/75 [==============================] - 11s 153ms/step - loss: 0.2658 - accuracy: 0.8944 - val_loss: 0.5197 - val_accuracy: 0.8086\n",
            "Epoch 32/2000\n",
            "75/75 [==============================] - 11s 153ms/step - loss: 0.2503 - accuracy: 0.9037 - val_loss: 0.4604 - val_accuracy: 0.8250\n",
            "Epoch 33/2000\n",
            "75/75 [==============================] - 11s 153ms/step - loss: 0.2578 - accuracy: 0.8985 - val_loss: 0.5200 - val_accuracy: 0.8089\n",
            "Epoch 34/2000\n",
            "75/75 [==============================] - 12s 158ms/step - loss: 0.2544 - accuracy: 0.8993 - val_loss: 0.4655 - val_accuracy: 0.8247\n",
            "Epoch 35/2000\n",
            "75/75 [==============================] - 11s 153ms/step - loss: 0.2367 - accuracy: 0.9094 - val_loss: 0.4721 - val_accuracy: 0.8254\n",
            "Epoch 36/2000\n",
            "75/75 [==============================] - 11s 151ms/step - loss: 0.2356 - accuracy: 0.9074 - val_loss: 0.4707 - val_accuracy: 0.8236\n",
            "Epoch 37/2000\n",
            "75/75 [==============================] - 11s 151ms/step - loss: 0.2353 - accuracy: 0.9080 - val_loss: 0.4688 - val_accuracy: 0.8243\n",
            "Epoch 38/2000\n",
            "75/75 [==============================] - 11s 151ms/step - loss: 0.2335 - accuracy: 0.9108 - val_loss: 0.5047 - val_accuracy: 0.8163\n",
            "Epoch 39/2000\n",
            "75/75 [==============================] - 11s 151ms/step - loss: 0.2344 - accuracy: 0.9112 - val_loss: 0.4756 - val_accuracy: 0.8261\n",
            "Epoch 40/2000\n",
            "75/75 [==============================] - 11s 151ms/step - loss: 0.2466 - accuracy: 0.9028 - val_loss: 0.4805 - val_accuracy: 0.8278\n",
            "Epoch 41/2000\n",
            "75/75 [==============================] - 11s 151ms/step - loss: 0.2405 - accuracy: 0.9086 - val_loss: 0.4745 - val_accuracy: 0.8271\n",
            "Epoch 42/2000\n",
            "75/75 [==============================] - 11s 151ms/step - loss: 0.2243 - accuracy: 0.9121 - val_loss: 0.4831 - val_accuracy: 0.8268\n",
            "Epoch 43/2000\n",
            "75/75 [==============================] - 11s 151ms/step - loss: 0.2229 - accuracy: 0.9162 - val_loss: 0.4851 - val_accuracy: 0.8310\n",
            "Epoch 44/2000\n",
            "75/75 [==============================] - 11s 152ms/step - loss: 0.2287 - accuracy: 0.9118 - val_loss: 0.4858 - val_accuracy: 0.8282\n",
            "Epoch 45/2000\n",
            "75/75 [==============================] - 11s 152ms/step - loss: 0.2243 - accuracy: 0.9132 - val_loss: 0.4888 - val_accuracy: 0.8289\n",
            "Epoch 46/2000\n",
            "75/75 [==============================] - 11s 152ms/step - loss: 0.2340 - accuracy: 0.9053 - val_loss: 0.4890 - val_accuracy: 0.8282\n",
            "Epoch 47/2000\n",
            "75/75 [==============================] - 11s 152ms/step - loss: 0.2208 - accuracy: 0.9150 - val_loss: 0.5100 - val_accuracy: 0.8208\n",
            "Epoch 48/2000\n",
            "75/75 [==============================] - 11s 153ms/step - loss: 0.2175 - accuracy: 0.9161 - val_loss: 0.4992 - val_accuracy: 0.8250\n",
            "Epoch 49/2000\n",
            "75/75 [==============================] - 11s 152ms/step - loss: 0.2184 - accuracy: 0.9208 - val_loss: 0.4935 - val_accuracy: 0.8257\n",
            "Epoch 50/2000\n",
            "75/75 [==============================] - 11s 152ms/step - loss: 0.2155 - accuracy: 0.9192 - val_loss: 0.5037 - val_accuracy: 0.8261\n",
            "Epoch 51/2000\n",
            "75/75 [==============================] - 11s 152ms/step - loss: 0.2180 - accuracy: 0.9152 - val_loss: 0.4960 - val_accuracy: 0.8278\n",
            "Epoch 52/2000\n",
            "75/75 [==============================] - 11s 152ms/step - loss: 0.2161 - accuracy: 0.9165 - val_loss: 0.4947 - val_accuracy: 0.8271\n",
            "Epoch 53/2000\n",
            "75/75 [==============================] - 11s 153ms/step - loss: 0.2083 - accuracy: 0.9192 - val_loss: 0.5007 - val_accuracy: 0.8285\n",
            "Epoch 54/2000\n",
            "75/75 [==============================] - 11s 152ms/step - loss: 0.2100 - accuracy: 0.9194 - val_loss: 0.5330 - val_accuracy: 0.8219\n",
            "Epoch 55/2000\n",
            "75/75 [==============================] - 11s 152ms/step - loss: 0.2126 - accuracy: 0.9182 - val_loss: 0.5129 - val_accuracy: 0.8268\n",
            "Epoch 56/2000\n",
            "75/75 [==============================] - 11s 152ms/step - loss: 0.2130 - accuracy: 0.9176 - val_loss: 0.5089 - val_accuracy: 0.8292\n",
            "Epoch 57/2000\n",
            "75/75 [==============================] - 11s 152ms/step - loss: 0.2067 - accuracy: 0.9198 - val_loss: 0.5146 - val_accuracy: 0.8257\n",
            "Epoch 58/2000\n",
            "75/75 [==============================] - 11s 153ms/step - loss: 0.2070 - accuracy: 0.9213 - val_loss: 0.5122 - val_accuracy: 0.8292\n",
            "Epoch 59/2000\n",
            "75/75 [==============================] - 11s 152ms/step - loss: 0.2064 - accuracy: 0.9232 - val_loss: 0.5349 - val_accuracy: 0.8222\n",
            "Epoch 60/2000\n",
            "75/75 [==============================] - 11s 152ms/step - loss: 0.2014 - accuracy: 0.9234 - val_loss: 0.5311 - val_accuracy: 0.8247\n",
            "Epoch 61/2000\n",
            "75/75 [==============================] - 11s 153ms/step - loss: 0.2025 - accuracy: 0.9226 - val_loss: 0.5348 - val_accuracy: 0.8264\n",
            "Epoch 62/2000\n",
            "75/75 [==============================] - 11s 152ms/step - loss: 0.1993 - accuracy: 0.9232 - val_loss: 0.5292 - val_accuracy: 0.8296\n",
            "Epoch 63/2000\n",
            "75/75 [==============================] - 11s 152ms/step - loss: 0.1950 - accuracy: 0.9268 - val_loss: 0.5266 - val_accuracy: 0.8303\n",
            "Epoch 64/2000\n",
            "75/75 [==============================] - 11s 153ms/step - loss: 0.2012 - accuracy: 0.9230 - val_loss: 0.5322 - val_accuracy: 0.8324\n",
            "Epoch 65/2000\n",
            "75/75 [==============================] - 11s 152ms/step - loss: 0.2017 - accuracy: 0.9247 - val_loss: 0.5319 - val_accuracy: 0.8320\n",
            "Epoch 66/2000\n",
            "75/75 [==============================] - 11s 153ms/step - loss: 0.2004 - accuracy: 0.9240 - val_loss: 0.5355 - val_accuracy: 0.8327\n",
            "Epoch 67/2000\n",
            "75/75 [==============================] - 11s 153ms/step - loss: 0.1942 - accuracy: 0.9247 - val_loss: 0.5433 - val_accuracy: 0.8324\n",
            "Epoch 68/2000\n",
            "75/75 [==============================] - 11s 152ms/step - loss: 0.1917 - accuracy: 0.9300 - val_loss: 0.5413 - val_accuracy: 0.8306\n",
            "Epoch 69/2000\n",
            "75/75 [==============================] - 11s 153ms/step - loss: 0.1980 - accuracy: 0.9270 - val_loss: 0.5576 - val_accuracy: 0.8247\n",
            "Epoch 70/2000\n",
            "75/75 [==============================] - 11s 152ms/step - loss: 0.1935 - accuracy: 0.9264 - val_loss: 0.6069 - val_accuracy: 0.8121\n",
            "Epoch 71/2000\n",
            "75/75 [==============================] - 11s 153ms/step - loss: 0.1912 - accuracy: 0.9257 - val_loss: 0.5583 - val_accuracy: 0.8292\n",
            "Epoch 72/2000\n",
            "75/75 [==============================] - 11s 153ms/step - loss: 0.1872 - accuracy: 0.9295 - val_loss: 0.5622 - val_accuracy: 0.8278\n",
            "Epoch 73/2000\n",
            "75/75 [==============================] - 11s 153ms/step - loss: 0.1823 - accuracy: 0.9336 - val_loss: 0.5862 - val_accuracy: 0.8233\n",
            "Epoch 74/2000\n",
            "75/75 [==============================] - 11s 152ms/step - loss: 0.1919 - accuracy: 0.9283 - val_loss: 0.5617 - val_accuracy: 0.8303\n",
            "Epoch 75/2000\n",
            "75/75 [==============================] - 11s 153ms/step - loss: 0.1839 - accuracy: 0.9311 - val_loss: 0.5708 - val_accuracy: 0.8261\n",
            "Epoch 76/2000\n",
            "75/75 [==============================] - 12s 154ms/step - loss: 0.1768 - accuracy: 0.9347 - val_loss: 0.5792 - val_accuracy: 0.8313\n",
            "Epoch 77/2000\n",
            "75/75 [==============================] - 11s 153ms/step - loss: 0.1846 - accuracy: 0.9317 - val_loss: 0.5732 - val_accuracy: 0.8306\n",
            "Epoch 78/2000\n",
            "75/75 [==============================] - 11s 153ms/step - loss: 0.1811 - accuracy: 0.9334 - val_loss: 0.5838 - val_accuracy: 0.8278\n",
            "Epoch 79/2000\n",
            "75/75 [==============================] - 11s 152ms/step - loss: 0.1952 - accuracy: 0.9274 - val_loss: 0.6142 - val_accuracy: 0.8198\n",
            "Epoch 80/2000\n",
            "75/75 [==============================] - 11s 152ms/step - loss: 0.1758 - accuracy: 0.9353 - val_loss: 0.5856 - val_accuracy: 0.8317\n",
            "Epoch 81/2000\n",
            "75/75 [==============================] - 12s 154ms/step - loss: 0.1798 - accuracy: 0.9346 - val_loss: 0.5982 - val_accuracy: 0.8278\n",
            "Epoch 82/2000\n",
            "75/75 [==============================] - 11s 152ms/step - loss: 0.1882 - accuracy: 0.9296 - val_loss: 0.5902 - val_accuracy: 0.8306\n",
            "Epoch 83/2000\n",
            "75/75 [==============================] - 11s 153ms/step - loss: 0.1728 - accuracy: 0.9354 - val_loss: 0.5926 - val_accuracy: 0.8313\n",
            "Epoch 84/2000\n",
            "75/75 [==============================] - 11s 152ms/step - loss: 0.1860 - accuracy: 0.9319 - val_loss: 0.6018 - val_accuracy: 0.8275\n",
            "Epoch 85/2000\n",
            "75/75 [==============================] - 11s 152ms/step - loss: 0.1836 - accuracy: 0.9339 - val_loss: 0.6126 - val_accuracy: 0.8250\n",
            "Epoch 86/2000\n",
            "75/75 [==============================] - 11s 153ms/step - loss: 0.1745 - accuracy: 0.9366 - val_loss: 0.5981 - val_accuracy: 0.8338\n",
            "Epoch 87/2000\n",
            "75/75 [==============================] - 11s 152ms/step - loss: 0.1769 - accuracy: 0.9377 - val_loss: 0.6030 - val_accuracy: 0.8327\n",
            "Epoch 88/2000\n",
            "75/75 [==============================] - 11s 152ms/step - loss: 0.1803 - accuracy: 0.9375 - val_loss: 0.6034 - val_accuracy: 0.8320\n",
            "Epoch 89/2000\n",
            "75/75 [==============================] - 11s 152ms/step - loss: 0.1723 - accuracy: 0.9418 - val_loss: 0.6009 - val_accuracy: 0.8327\n",
            "Epoch 90/2000\n",
            "75/75 [==============================] - 11s 152ms/step - loss: 0.1751 - accuracy: 0.9376 - val_loss: 0.6251 - val_accuracy: 0.8282\n",
            "Epoch 91/2000\n",
            "75/75 [==============================] - 11s 152ms/step - loss: 0.1740 - accuracy: 0.9364 - val_loss: 0.6135 - val_accuracy: 0.8320\n",
            "Epoch 92/2000\n",
            "75/75 [==============================] - 11s 152ms/step - loss: 0.1695 - accuracy: 0.9381 - val_loss: 0.6357 - val_accuracy: 0.8271\n",
            "Epoch 93/2000\n",
            "75/75 [==============================] - 11s 152ms/step - loss: 0.1834 - accuracy: 0.9332 - val_loss: 0.6219 - val_accuracy: 0.8331\n",
            "Epoch 94/2000\n",
            "75/75 [==============================] - 11s 153ms/step - loss: 0.1788 - accuracy: 0.9370 - val_loss: 0.6307 - val_accuracy: 0.8303\n",
            "Epoch 95/2000\n",
            "75/75 [==============================] - 11s 152ms/step - loss: 0.1771 - accuracy: 0.9353 - val_loss: 0.6340 - val_accuracy: 0.8299\n",
            "Epoch 96/2000\n",
            "75/75 [==============================] - 11s 153ms/step - loss: 0.1750 - accuracy: 0.9374 - val_loss: 0.6207 - val_accuracy: 0.8366\n",
            "Epoch 97/2000\n",
            "75/75 [==============================] - 11s 152ms/step - loss: 0.1763 - accuracy: 0.9381 - val_loss: 0.6422 - val_accuracy: 0.8289\n",
            "Epoch 98/2000\n",
            "75/75 [==============================] - 11s 152ms/step - loss: 0.1724 - accuracy: 0.9402 - val_loss: 0.6280 - val_accuracy: 0.8324\n",
            "Epoch 99/2000\n",
            "75/75 [==============================] - 11s 153ms/step - loss: 0.1776 - accuracy: 0.9358 - val_loss: 0.6339 - val_accuracy: 0.8327\n",
            "Epoch 100/2000\n",
            "75/75 [==============================] - 11s 152ms/step - loss: 0.1800 - accuracy: 0.9323 - val_loss: 0.6316 - val_accuracy: 0.8310\n",
            "Epoch 101/2000\n",
            "75/75 [==============================] - 11s 152ms/step - loss: 0.1832 - accuracy: 0.9345 - val_loss: 0.6244 - val_accuracy: 0.8338\n",
            "Epoch 102/2000\n",
            "75/75 [==============================] - 11s 152ms/step - loss: 0.1807 - accuracy: 0.9380 - val_loss: 0.6324 - val_accuracy: 0.8324\n",
            "Epoch 103/2000\n",
            "75/75 [==============================] - 11s 153ms/step - loss: 0.1775 - accuracy: 0.9387 - val_loss: 0.6440 - val_accuracy: 0.8296\n",
            "Epoch 104/2000\n",
            "75/75 [==============================] - 11s 152ms/step - loss: 0.1849 - accuracy: 0.9325 - val_loss: 0.6364 - val_accuracy: 0.8338\n",
            "Epoch 105/2000\n",
            "75/75 [==============================] - 11s 153ms/step - loss: 0.1732 - accuracy: 0.9400 - val_loss: 0.6419 - val_accuracy: 0.8310\n",
            "Epoch 106/2000\n",
            "75/75 [==============================] - 11s 152ms/step - loss: 0.1758 - accuracy: 0.9377 - val_loss: 0.6311 - val_accuracy: 0.8352\n",
            "Epoch 107/2000\n",
            "75/75 [==============================] - 11s 153ms/step - loss: 0.1744 - accuracy: 0.9390 - val_loss: 0.6503 - val_accuracy: 0.8285\n",
            "Epoch 108/2000\n",
            "75/75 [==============================] - 11s 152ms/step - loss: 0.1725 - accuracy: 0.9405 - val_loss: 0.6395 - val_accuracy: 0.8338\n",
            "Epoch 109/2000\n",
            "75/75 [==============================] - 11s 152ms/step - loss: 0.1852 - accuracy: 0.9344 - val_loss: 0.6366 - val_accuracy: 0.8349\n",
            "Epoch 110/2000\n",
            "75/75 [==============================] - 11s 152ms/step - loss: 0.1695 - accuracy: 0.9415 - val_loss: 0.6913 - val_accuracy: 0.8187\n",
            "Epoch 111/2000\n",
            "75/75 [==============================] - 11s 152ms/step - loss: 0.1769 - accuracy: 0.9370 - val_loss: 0.6461 - val_accuracy: 0.8299\n",
            "Epoch 112/2000\n",
            "75/75 [==============================] - 11s 152ms/step - loss: 0.1819 - accuracy: 0.9351 - val_loss: 0.6525 - val_accuracy: 0.8349\n",
            "Epoch 113/2000\n",
            "75/75 [==============================] - 11s 152ms/step - loss: 0.1756 - accuracy: 0.9392 - val_loss: 0.7320 - val_accuracy: 0.8065\n",
            "Epoch 114/2000\n",
            "75/75 [==============================] - 11s 152ms/step - loss: 0.1748 - accuracy: 0.9374 - val_loss: 0.6436 - val_accuracy: 0.8317\n",
            "Epoch 115/2000\n",
            "75/75 [==============================] - 11s 152ms/step - loss: 0.1642 - accuracy: 0.9434 - val_loss: 0.6594 - val_accuracy: 0.8275\n",
            "Epoch 116/2000\n",
            "75/75 [==============================] - 11s 153ms/step - loss: 0.1777 - accuracy: 0.9370 - val_loss: 0.6436 - val_accuracy: 0.8387\n",
            "Epoch 117/2000\n",
            "75/75 [==============================] - 11s 152ms/step - loss: 0.1696 - accuracy: 0.9394 - val_loss: 0.6468 - val_accuracy: 0.8356\n",
            "Epoch 118/2000\n",
            "75/75 [==============================] - 11s 152ms/step - loss: 0.1774 - accuracy: 0.9378 - val_loss: 0.6750 - val_accuracy: 0.8254\n",
            "Epoch 119/2000\n",
            "75/75 [==============================] - 11s 152ms/step - loss: 0.1803 - accuracy: 0.9367 - val_loss: 0.6634 - val_accuracy: 0.8299\n",
            "Epoch 120/2000\n",
            "75/75 [==============================] - 11s 152ms/step - loss: 0.1644 - accuracy: 0.9415 - val_loss: 0.6495 - val_accuracy: 0.8345\n",
            "Epoch 121/2000\n",
            "75/75 [==============================] - 11s 152ms/step - loss: 0.1741 - accuracy: 0.9390 - val_loss: 0.6690 - val_accuracy: 0.8268\n",
            "Epoch 122/2000\n",
            "75/75 [==============================] - 11s 152ms/step - loss: 0.1758 - accuracy: 0.9409 - val_loss: 0.6600 - val_accuracy: 0.8317\n",
            "Epoch 123/2000\n",
            "75/75 [==============================] - 11s 153ms/step - loss: 0.1762 - accuracy: 0.9413 - val_loss: 0.6483 - val_accuracy: 0.8331\n",
            "Epoch 124/2000\n",
            "75/75 [==============================] - 12s 154ms/step - loss: 0.1753 - accuracy: 0.9395 - val_loss: 0.6758 - val_accuracy: 0.8278\n",
            "Epoch 125/2000\n",
            "75/75 [==============================] - 11s 152ms/step - loss: 0.1701 - accuracy: 0.9376 - val_loss: 0.6458 - val_accuracy: 0.8331\n",
            "Epoch 126/2000\n",
            "75/75 [==============================] - 11s 152ms/step - loss: 0.1755 - accuracy: 0.9390 - val_loss: 0.6475 - val_accuracy: 0.8352\n",
            "Epoch 127/2000\n",
            "75/75 [==============================] - 11s 152ms/step - loss: 0.1759 - accuracy: 0.9417 - val_loss: 0.7200 - val_accuracy: 0.8138\n",
            "Epoch 128/2000\n",
            "75/75 [==============================] - 11s 153ms/step - loss: 0.1776 - accuracy: 0.9357 - val_loss: 0.6674 - val_accuracy: 0.8303\n",
            "Epoch 129/2000\n",
            "75/75 [==============================] - 11s 152ms/step - loss: 0.1646 - accuracy: 0.9415 - val_loss: 0.6609 - val_accuracy: 0.8338\n",
            "Epoch 130/2000\n",
            "75/75 [==============================] - 11s 152ms/step - loss: 0.1828 - accuracy: 0.9388 - val_loss: 0.6551 - val_accuracy: 0.8345\n",
            "Epoch 131/2000\n",
            "75/75 [==============================] - 11s 153ms/step - loss: 0.1873 - accuracy: 0.9367 - val_loss: 0.6578 - val_accuracy: 0.8335\n",
            "Epoch 132/2000\n",
            "75/75 [==============================] - 11s 152ms/step - loss: 0.1775 - accuracy: 0.9402 - val_loss: 0.6662 - val_accuracy: 0.8320\n",
            "Epoch 133/2000\n",
            "75/75 [==============================] - 11s 153ms/step - loss: 0.1821 - accuracy: 0.9336 - val_loss: 0.6647 - val_accuracy: 0.8345\n",
            "Epoch 134/2000\n",
            "75/75 [==============================] - 11s 153ms/step - loss: 0.1741 - accuracy: 0.9400 - val_loss: 0.6589 - val_accuracy: 0.8335\n",
            "Epoch 135/2000\n",
            "75/75 [==============================] - 11s 153ms/step - loss: 0.1773 - accuracy: 0.9405 - val_loss: 0.6526 - val_accuracy: 0.8387\n",
            "Epoch 136/2000\n",
            "75/75 [==============================] - 11s 152ms/step - loss: 0.1744 - accuracy: 0.9424 - val_loss: 0.6523 - val_accuracy: 0.8380\n",
            "Epoch 137/2000\n",
            "75/75 [==============================] - 11s 152ms/step - loss: 0.1778 - accuracy: 0.9407 - val_loss: 0.6588 - val_accuracy: 0.8370\n",
            "Epoch 138/2000\n",
            "75/75 [==============================] - 11s 152ms/step - loss: 0.1778 - accuracy: 0.9378 - val_loss: 0.6676 - val_accuracy: 0.8285\n",
            "Epoch 139/2000\n",
            "75/75 [==============================] - 11s 152ms/step - loss: 0.1776 - accuracy: 0.9392 - val_loss: 0.6664 - val_accuracy: 0.8306\n",
            "Epoch 140/2000\n",
            "75/75 [==============================] - 11s 153ms/step - loss: 0.1851 - accuracy: 0.9351 - val_loss: 0.6610 - val_accuracy: 0.8303\n",
            "Epoch 141/2000\n",
            "75/75 [==============================] - 11s 153ms/step - loss: 0.1779 - accuracy: 0.9396 - val_loss: 0.6488 - val_accuracy: 0.8335\n",
            "Epoch 142/2000\n",
            "75/75 [==============================] - 11s 153ms/step - loss: 0.1819 - accuracy: 0.9369 - val_loss: 0.6659 - val_accuracy: 0.8292\n",
            "Epoch 143/2000\n",
            "75/75 [==============================] - 11s 153ms/step - loss: 0.1766 - accuracy: 0.9388 - val_loss: 0.6454 - val_accuracy: 0.8380\n",
            "Epoch 144/2000\n",
            "75/75 [==============================] - 11s 153ms/step - loss: 0.1848 - accuracy: 0.9372 - val_loss: 0.6471 - val_accuracy: 0.8363\n",
            "Epoch 145/2000\n",
            "75/75 [==============================] - 11s 153ms/step - loss: 0.1737 - accuracy: 0.9397 - val_loss: 0.6488 - val_accuracy: 0.8384\n",
            "Epoch 146/2000\n",
            "75/75 [==============================] - 11s 153ms/step - loss: 0.1874 - accuracy: 0.9373 - val_loss: 0.6442 - val_accuracy: 0.8345\n"
          ]
        }
      ],
      "source": [
        "tl_history = model.fit(\n",
        "    x=preprocess_input(X_train * 255),\n",
        "    y=y_train,\n",
        "    batch_size=128,\n",
        "    epochs=epochs,\n",
        "    validation_data=(preprocess_input(X_val * 255), y_val),\n",
        "    callbacks=[keras.callbacks.EarlyStopping(monitor='val_accuracy', mode='max', patience=30, restore_best_weights=True)]\n",
        ").history"
      ]
    },
    {
      "cell_type": "code",
      "execution_count": 13,
      "metadata": {},
      "outputs": [],
      "source": [
        "from datetime import datetime\n",
        "\n",
        "current_datetime = datetime.now()\n",
        "formatted_datetime = current_datetime.strftime(\"%Y%m%d_%H%M%S\")\n",
        "\n",
        "# Create the zipfile with date and time in the name\n",
        "zipfile_name = f\"model_{formatted_datetime}_TL.zip\"\n",
        "model.save(zipfile_name)"
      ]
    },
    {
      "cell_type": "markdown",
      "metadata": {},
      "source": [
        "### Fine-Tuning"
      ]
    },
    {
      "cell_type": "code",
      "execution_count": 14,
      "metadata": {},
      "outputs": [
        {
          "name": "stdout",
          "output_type": "stream",
          "text": [
            "Model: \"sequential\"\n",
            "_________________________________________________________________\n",
            " Layer (type)                Output Shape              Param #   \n",
            "=================================================================\n",
            " vgg16 (Functional)          (None, 3, 3, 512)         14714688  \n",
            "                                                                 \n",
            " flatten (Flatten)           (None, 4608)              0         \n",
            "                                                                 \n",
            " dense (Dense)               (None, 256)               1179904   \n",
            "                                                                 \n",
            " dropout (Dropout)           (None, 256)               0         \n",
            "                                                                 \n",
            " dense_1 (Dense)             (None, 2)                 514       \n",
            "                                                                 \n",
            "=================================================================\n",
            "Total params: 15895106 (60.64 MB)\n",
            "Trainable params: 1180418 (4.50 MB)\n",
            "Non-trainable params: 14714688 (56.13 MB)\n",
            "_________________________________________________________________\n"
          ]
        }
      ],
      "source": [
        "#Re-load the model after transfer learning\n",
        "ft_model = keras.models.load_model(zipfile_name)\n",
        "ft_model.summary()"
      ]
    },
    {
      "cell_type": "code",
      "execution_count": 15,
      "metadata": {},
      "outputs": [
        {
          "name": "stdout",
          "output_type": "stream",
          "text": [
            "0 input_1 True\n",
            "1 block1_conv1 True\n",
            "2 block1_conv2 True\n",
            "3 block1_pool True\n",
            "4 block2_conv1 True\n",
            "5 block2_conv2 True\n",
            "6 block2_pool True\n",
            "7 block3_conv1 True\n",
            "8 block3_conv2 True\n",
            "9 block3_conv3 True\n",
            "10 block3_pool True\n",
            "11 block4_conv1 True\n",
            "12 block4_conv2 True\n",
            "13 block4_conv3 True\n",
            "14 block4_pool True\n",
            "15 block5_conv1 True\n",
            "16 block5_conv2 True\n",
            "17 block5_conv3 True\n",
            "18 block5_pool True\n"
          ]
        }
      ],
      "source": [
        "# Set all MobileNetV2 layers as trainable\n",
        "ft_model.get_layer('vgg16').trainable = True\n",
        "for i, layer in enumerate(ft_model.get_layer('vgg16').layers):\n",
        "   print(i, layer.name, layer.trainable)"
      ]
    },
    {
      "cell_type": "code",
      "execution_count": 16,
      "metadata": {},
      "outputs": [
        {
          "name": "stdout",
          "output_type": "stream",
          "text": [
            "0 input_1 False\n",
            "1 block1_conv1 False\n",
            "2 block1_conv2 False\n",
            "3 block1_pool False\n",
            "4 block2_conv1 False\n",
            "5 block2_conv2 False\n",
            "6 block2_pool False\n",
            "7 block3_conv1 False\n",
            "8 block3_conv2 False\n",
            "9 block3_conv3 False\n",
            "10 block3_pool False\n",
            "11 block4_conv1 False\n",
            "12 block4_conv2 False\n",
            "13 block4_conv3 False\n",
            "14 block4_pool False\n",
            "15 block5_conv1 False\n",
            "16 block5_conv2 False\n",
            "17 block5_conv3 False\n",
            "18 block5_pool False\n",
            "Model: \"sequential\"\n",
            "_________________________________________________________________\n",
            " Layer (type)                Output Shape              Param #   \n",
            "=================================================================\n",
            " vgg16 (Functional)          (None, 3, 3, 512)         14714688  \n",
            "                                                                 \n",
            " flatten (Flatten)           (None, 4608)              0         \n",
            "                                                                 \n",
            " dense (Dense)               (None, 256)               1179904   \n",
            "                                                                 \n",
            " dropout (Dropout)           (None, 256)               0         \n",
            "                                                                 \n",
            " dense_1 (Dense)             (None, 2)                 514       \n",
            "                                                                 \n",
            "=================================================================\n",
            "Total params: 15895106 (60.64 MB)\n",
            "Trainable params: 1180418 (4.50 MB)\n",
            "Non-trainable params: 14714688 (56.13 MB)\n",
            "_________________________________________________________________\n"
          ]
        }
      ],
      "source": [
        "# Freeze first N layers, e.g., until the 150th one\n",
        "N = 150\n",
        "for i, layer in enumerate(ft_model.get_layer('vgg16').layers[:N]):\n",
        "  layer.trainable=False\n",
        "for i, layer in enumerate(ft_model.get_layer('vgg16').layers):\n",
        "   print(i, layer.name, layer.trainable)\n",
        "ft_model.summary()"
      ]
    },
    {
      "cell_type": "code",
      "execution_count": 17,
      "metadata": {},
      "outputs": [],
      "source": [
        "# Compile the model\n",
        "ft_model.compile(loss=keras.losses.BinaryCrossentropy(), optimizer=optimizer, metrics='accuracy')"
      ]
    },
    {
      "cell_type": "code",
      "execution_count": 18,
      "metadata": {},
      "outputs": [
        {
          "name": "stdout",
          "output_type": "stream",
          "text": [
            "Epoch 1/200\n",
            "75/75 [==============================] - 13s 164ms/step - loss: 0.5501 - accuracy: 0.8388 - val_loss: 0.7068 - val_accuracy: 0.8306\n",
            "Epoch 2/200\n",
            "75/75 [==============================] - 11s 153ms/step - loss: 0.2970 - accuracy: 0.8972 - val_loss: 0.6637 - val_accuracy: 0.8278\n",
            "Epoch 3/200\n",
            "75/75 [==============================] - 11s 153ms/step - loss: 0.2409 - accuracy: 0.9153 - val_loss: 0.6222 - val_accuracy: 0.8324\n",
            "Epoch 4/200\n",
            "75/75 [==============================] - 11s 153ms/step - loss: 0.2274 - accuracy: 0.9157 - val_loss: 0.6098 - val_accuracy: 0.8296\n",
            "Epoch 5/200\n",
            "75/75 [==============================] - 12s 161ms/step - loss: 0.1997 - accuracy: 0.9270 - val_loss: 0.6116 - val_accuracy: 0.8247\n",
            "Epoch 6/200\n",
            "75/75 [==============================] - 11s 152ms/step - loss: 0.2066 - accuracy: 0.9258 - val_loss: 0.5932 - val_accuracy: 0.8303\n",
            "Epoch 7/200\n",
            "75/75 [==============================] - 11s 152ms/step - loss: 0.1915 - accuracy: 0.9300 - val_loss: 0.6049 - val_accuracy: 0.8296\n",
            "Epoch 8/200\n",
            "75/75 [==============================] - 12s 154ms/step - loss: 0.2114 - accuracy: 0.9211 - val_loss: 0.5966 - val_accuracy: 0.8292\n",
            "Epoch 9/200\n",
            "75/75 [==============================] - 12s 154ms/step - loss: 0.1934 - accuracy: 0.9318 - val_loss: 0.5894 - val_accuracy: 0.8327\n",
            "Epoch 10/200\n",
            "75/75 [==============================] - 11s 153ms/step - loss: 0.1868 - accuracy: 0.9330 - val_loss: 0.5999 - val_accuracy: 0.8324\n",
            "Epoch 11/200\n",
            "75/75 [==============================] - 11s 153ms/step - loss: 0.1800 - accuracy: 0.9373 - val_loss: 0.5982 - val_accuracy: 0.8310\n",
            "Epoch 12/200\n",
            "75/75 [==============================] - 11s 154ms/step - loss: 0.1913 - accuracy: 0.9309 - val_loss: 0.5921 - val_accuracy: 0.8359\n",
            "Epoch 13/200\n",
            "75/75 [==============================] - 11s 153ms/step - loss: 0.1801 - accuracy: 0.9379 - val_loss: 0.5906 - val_accuracy: 0.8317\n",
            "Epoch 14/200\n",
            "75/75 [==============================] - 11s 153ms/step - loss: 0.1823 - accuracy: 0.9366 - val_loss: 0.5971 - val_accuracy: 0.8317\n",
            "Epoch 15/200\n",
            "75/75 [==============================] - 11s 153ms/step - loss: 0.1866 - accuracy: 0.9366 - val_loss: 0.6103 - val_accuracy: 0.8275\n",
            "Epoch 16/200\n",
            "75/75 [==============================] - 11s 153ms/step - loss: 0.1803 - accuracy: 0.9334 - val_loss: 0.6088 - val_accuracy: 0.8292\n",
            "Epoch 17/200\n",
            "75/75 [==============================] - 11s 153ms/step - loss: 0.1810 - accuracy: 0.9388 - val_loss: 0.5938 - val_accuracy: 0.8303\n",
            "Epoch 18/200\n",
            "75/75 [==============================] - 11s 153ms/step - loss: 0.1830 - accuracy: 0.9385 - val_loss: 0.6095 - val_accuracy: 0.8278\n",
            "Epoch 19/200\n",
            "75/75 [==============================] - 11s 153ms/step - loss: 0.1749 - accuracy: 0.9396 - val_loss: 0.6021 - val_accuracy: 0.8335\n",
            "Epoch 20/200\n",
            "75/75 [==============================] - 11s 153ms/step - loss: 0.1846 - accuracy: 0.9376 - val_loss: 0.6092 - val_accuracy: 0.8275\n",
            "Epoch 21/200\n",
            "75/75 [==============================] - 11s 153ms/step - loss: 0.1794 - accuracy: 0.9386 - val_loss: 0.6016 - val_accuracy: 0.8282\n",
            "Epoch 22/200\n",
            "75/75 [==============================] - 11s 154ms/step - loss: 0.1832 - accuracy: 0.9343 - val_loss: 0.6116 - val_accuracy: 0.8306\n"
          ]
        }
      ],
      "source": [
        "# Fine-tune the model\n",
        "ft_history = ft_model.fit(\n",
        "    x = preprocess_input(X_train*255), # We need to apply the preprocessing thought for the MobileNetV2 network\n",
        "    y = y_train,\n",
        "    batch_size = 128,\n",
        "    epochs = 200,\n",
        "    validation_data = (preprocess_input(X_val*255), y_val), # We need to apply the preprocessing thought for the MobileNetV2 network\n",
        "    callbacks = [keras.callbacks.EarlyStopping(monitor='val_accuracy', mode='max', patience=10, restore_best_weights=True)]\n",
        ").history"
      ]
    },
    {
      "cell_type": "code",
      "execution_count": 19,
      "metadata": {},
      "outputs": [
        {
          "name": "stdout",
          "output_type": "stream",
          "text": [
            "Test set accuracy 0.8365\n"
          ]
        }
      ],
      "source": [
        "# Evaluate the model on the test set\n",
        "test_accuracy = ft_model.evaluate(preprocess_input(X_test*255),y_test,verbose=0)[-1]\n",
        "print('Test set accuracy %.4f' % test_accuracy)"
      ]
    },
    {
      "cell_type": "code",
      "execution_count": 20,
      "metadata": {},
      "outputs": [],
      "source": [
        "formatted_datetime = current_datetime.strftime(\"%Y%m%d_%H%M%S\")\n",
        "\n",
        "# Create the zipfile with date and time in the name\n",
        "zipfile_name = f\"model_{formatted_datetime}_FT.zip\"\n",
        "model.save(zipfile_name)"
      ]
    },
    {
      "cell_type": "markdown",
      "metadata": {},
      "source": [
        "### Plot the training"
      ]
    },
    {
      "cell_type": "code",
      "execution_count": 21,
      "metadata": {},
      "outputs": [
        {
          "data": {
            "image/png": "[encoded data removed]",
            "text/plain": [
              "<Figure size 1500x500 with 1 Axes>"
            ]
          },
          "metadata": {},
          "output_type": "display_data"
        }
      ],
      "source": [
        "# Plot the training\n",
        "plt.figure(figsize=(15, 5))\n",
        "plt.plot(tl_history['accuracy'], alpha=.3, color='#ff7f0e', linestyle='--')\n",
        "plt.plot(tl_history['val_accuracy'], label='Vanilla CNN', alpha=.8, color='#ff7f0e')\n",
        "plt.legend(loc='upper left')\n",
        "plt.title('Accuracy')\n",
        "plt.grid(alpha=.3)\n",
        "\n",
        "plt.show()"
      ]
    },
    {
      "cell_type": "markdown",
      "metadata": {},
      "source": [
        "# Save the model and create submission(s)"
      ]
    },
    {
      "cell_type": "code",
      "execution_count": 22,
      "metadata": {},
      "outputs": [
        {
          "name": "stdout",
          "output_type": "stream",
          "text": [
            "SubmissionModel/SubmissionModel/fingerprint.pb\n",
            "SubmissionModel/SubmissionModel/keras_metadata.pb\n",
            "SubmissionModel/SubmissionModel/saved_model.pb\n",
            "SubmissionModel/SubmissionModel/variables/variables.data-00000-of-00001\n",
            "SubmissionModel/SubmissionModel/variables/variables.index\n",
            "SubmissionModel_20231117_201916.zip\n"
          ]
        }
      ],
      "source": [
        "# Specify the name of the submission folder\n",
        "submission_folder = \"SubmissionModel\"\n",
        "\n",
        "# Save best epoch model\n",
        "model.save(os.path.join(submission_folder, \"SubmissionModel\"))\n",
        "\n",
        "# Save the model.py file in the main directory\n",
        "with open(\"model.py\", \"w\") as model_file:\n",
        "    model_file.write(\"\"\"\n",
        "\n",
        "import os\n",
        "import tensorflow as tf\n",
        "\n",
        "class model:\n",
        "    def __init__(self, path):\n",
        "        self.model = tf.keras.models.load_model(os.path.join(path, 'SubmissionModel'))\n",
        "\n",
        "    def predict(self, X):\n",
        "        \n",
        "        # Note: this is just an example.\n",
        "        # Here the model.predict is called, followed by the argmax\n",
        "        X = X/255.0\n",
        "        out = self.model.predict(X)\n",
        "        out = tf.argmax(out, axis=-1)  # Shape [BS]\n",
        "        return out\n",
        "\n",
        "\"\"\")\n",
        "\n",
        "# Create an empty metadata file in the main directory\n",
        "open(\"metadata\", \"w\").close()\n",
        "\n",
        "# Get the current date and time\n",
        "formatted_datetime = current_datetime.strftime(\"%Y%m%d_%H%M%S\")\n",
        "\n",
        "# Create the zipfile with date and time in the name\n",
        "zipfile_name = f\"{submission_folder}_{formatted_datetime}.zip\"\n",
        "\n",
        "with zipfile.ZipFile(zipfile_name, 'w') as zip_file:\n",
        "    # Add the entire \"SubmissionModel\" folder and its contents to the archive\n",
        "    for foldername, subfolders, filenames in os.walk(submission_folder):\n",
        "        for filename in filenames:\n",
        "            file_path = os.path.join(foldername, filename)\n",
        "            arcname = os.path.relpath(file_path, submission_folder)\n",
        "\n",
        "            if (foldername in [\"SubmissionModel\", \"SubmissionModel/model\", \"SubmissionModel/model/variables\", \"SubmissionModel/variables\"]):\n",
        "                continue\n",
        "\n",
        "            # print(foldername)\n",
        "            print(file_path)\n",
        "\n",
        "            zip_file.write(file_path, arcname)\n",
        "\n",
        "    # Add other files to the archive (model.py and metadata)\n",
        "    zip_file.write(\"model.py\", arcname=\"model.py\")\n",
        "    zip_file.write(\"metadata\", arcname=\"metadata\")\n",
        "\n",
        "print(zipfile_name)\n",
        "\n",
        "\n"
      ]
    },
    {
      "cell_type": "code",
      "execution_count": 23,
      "metadata": {},
      "outputs": [
        {
          "name": "stdout",
          "output_type": "stream",
          "text": [
            "SubmissionModel/SubmissionModel/fingerprint.pb\n",
            "SubmissionModel/SubmissionModel/keras_metadata.pb\n",
            "SubmissionModel/SubmissionModel/saved_model.pb\n",
            "SubmissionModel/SubmissionModel/variables/variables.data-00000-of-00001\n",
            "SubmissionModel/SubmissionModel/variables/variables.index\n",
            "SubmissionModel_20231117_201916_withPreprocess.zip\n"
          ]
        }
      ],
      "source": [
        "# Specify the name of the submission folder\n",
        "submission_folder = \"SubmissionModel\"\n",
        "\n",
        "# Save best epoch model\n",
        "model.save(os.path.join(submission_folder, \"SubmissionModel\"))\n",
        "\n",
        "# Save the model.py file in the main directory\n",
        "with open(\"model.py\", \"w\") as model_file:\n",
        "    model_file.write(\"\"\"\n",
        "\n",
        "import os\n",
        "import tensorflow as tf\n",
        "\n",
        "class model:\n",
        "    def __init__(self, path):\n",
        "        self.model = tf.keras.models.load_model(os.path.join(path, 'SubmissionModel'))\n",
        "\n",
        "    def predict(self, X):\n",
        "        \n",
        "        # Note: this is just an example.\n",
        "        # Here the model.predict is called, followed by the argmax\n",
        "        X = X/255.0\n",
        "        out = self.model.predict(X)\n",
        "        out = tf.argmax(out, axis=-1)  # Shape [BS]\n",
        "        return out\n",
        "\n",
        "\"\"\")\n",
        "\n",
        "# Create an empty metadata file in the main directory\n",
        "open(\"metadata\", \"w\").close()\n",
        "\n",
        "# Get the current date and time\n",
        "formatted_datetime = current_datetime.strftime(\"%Y%m%d_%H%M%S\")\n",
        "\n",
        "# Create the zipfile with date and time in the name\n",
        "zipfile_name = f\"{submission_folder}_{formatted_datetime}_withPreprocess.zip\"\n",
        "\n",
        "with zipfile.ZipFile(zipfile_name, 'w') as zip_file:\n",
        "    # Add the entire \"SubmissionModel\" folder and its contents to the archive\n",
        "    for foldername, subfolders, filenames in os.walk(submission_folder):\n",
        "        for filename in filenames:\n",
        "            file_path = os.path.join(foldername, filename)\n",
        "            arcname = os.path.relpath(file_path, submission_folder)\n",
        "\n",
        "            if (foldername in [\"SubmissionModel\", \"SubmissionModel/model\", \"SubmissionModel/model/variables\", \"SubmissionModel/variables\"]):\n",
        "                continue\n",
        "\n",
        "            # print(foldername)\n",
        "            print(file_path)\n",
        "\n",
        "            zip_file.write(file_path, arcname)\n",
        "\n",
        "    # Add other files to the archive (model.py and metadata)\n",
        "    zip_file.write(\"model.py\", arcname=\"model.py\")\n",
        "    zip_file.write(\"metadata\", arcname=\"metadata\")\n",
        "\n",
        "print(zipfile_name)\n",
        "\n",
        "\n"
      ]
    }
  ],
  "metadata": {
    "colab": {
      "provenance": []
    },
    "kernelspec": {
      "display_name": "Python 3",
      "language": "python",
      "name": "python3"
    },
    "language_info": {
      "codemirror_mode": {
        "name": "ipython",
        "version": 3
      },
      "file_extension": ".py",
      "mimetype": "text/x-python",
      "name": "python",
      "nbconvert_exporter": "python",
      "pygments_lexer": "ipython3",
      "version": "3.10.13"
    }
  },
  "nbformat": 4,
  "nbformat_minor": 0
}
